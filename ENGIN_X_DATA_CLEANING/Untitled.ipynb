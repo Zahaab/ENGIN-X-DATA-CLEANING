{
 "cells": [
  {
   "cell_type": "code",
   "execution_count": null,
   "metadata": {},
   "outputs": [],
   "source": [
    "import os\n",
    "import xlsxwriter\n",
    "import numpy as np\n",
    "from pylab import plot, grid, xlim, ylim, xlabel, ylabel, linspace, figure, legend\n",
    "import pandas as pd"
   ]
  },
  {
   "cell_type": "code",
   "execution_count": null,
   "metadata": {},
   "outputs": [],
   "source": []
  },
  {
   "cell_type": "code",
   "execution_count": null,
   "metadata": {},
   "outputs": [],
   "source": []
  },
  {
   "cell_type": "code",
   "execution_count": null,
   "metadata": {},
   "outputs": [],
   "source": []
  },
  {
   "cell_type": "markdown",
   "metadata": {},
   "source": [
    "### Making spreadsheetof file names "
   ]
  },
  {
   "cell_type": "code",
   "execution_count": null,
   "metadata": {
    "scrolled": false
   },
   "outputs": [],
   "source": [
    "def FindDel(S):\n",
    "    \"\"\"This function takes a the first string in a list,(S) that starts with ENG, it finds the nomancature \n",
    "    the file uses for the begining of each file, e.g ENG44007 or ENGINX00305258, it shall also work if more numbers\n",
    "    are added or the name changes so long as ENG followed by anything other than \".\" or \"_\" or \" \" is still \n",
    "    the start of each file\"\"\"\n",
    "    for i in S:\n",
    "        if i[0:3] == 'ENG':\n",
    "            n = 1\n",
    "            for j in i:\n",
    "                if j == '.':\n",
    "                    break\n",
    "                elif j == ' ':\n",
    "                    break\n",
    "                elif j == '_':\n",
    "                    break\n",
    "                else: \n",
    "                    n = n+1 \n",
    "            return n\n",
    "        else:\n",
    "            continue\n",
    "\n",
    "directory = \"D:\\\\\"\n",
    "array_names = []\n",
    "file_years = []\n",
    "long_array_names = []\n",
    "for foldername in os.listdir(directory):\n",
    "    if foldername[0:5] == 'cycle':\n",
    "        n = FindDel(os.listdir(\"D:\\\\\"+foldername))\n",
    "        print(n)\n",
    "        for filename in os.listdir(\"D:\\\\\"+foldername):\n",
    "            if filename[n:] in array_names: #stop repeated file names from entering \n",
    "                pass\n",
    "            elif len(filename) < n+1: # Stop useless file names from entering (e.g copy)\n",
    "                pass\n",
    "            elif filename[n] == 's' or 'n':# Stop temporary files from entering (e.g .s01 or .n001)\n",
    "                try:\n",
    "                    int(filename[n+1]) # all temp files are 's' or 'n' followed by a int\n",
    "                except: \n",
    "                    array_names.append(filename[n:])\n",
    "                    long_array_names.append(filename)\n",
    "                    file_years.append(foldername)\n",
    "            else: # most unique file names go here \n",
    "                array_names.append(filename[n:])\n",
    "                long_array_names.append(filename)\n",
    "                file_years.append(foldername)\n",
    "                \n",
    "#print(file_years)\n",
    "#print(array_names)\n",
    "#print(long_array_names)\n",
    "\n",
    "workbook   = xlsxwriter.Workbook('Filenames.xlsx')\n",
    "\n",
    "worksheet1 = workbook.add_worksheet()\n",
    "worksheet2 = workbook.add_worksheet()\n",
    "\n",
    "worksheet1.write_column('A1', array_names)\n",
    "worksheet2.write_column('A1', long_array_names)\n",
    "worksheet1.write_column('B1', file_years)\n",
    "worksheet2.write_column('B1', file_years)\n",
    "workbook.close()"
   ]
  },
  {
   "cell_type": "markdown",
   "metadata": {},
   "source": [
    "### Extracting times"
   ]
  },
  {
   "cell_type": "code",
   "execution_count": null,
   "metadata": {},
   "outputs": [],
   "source": [
    "df = pd.read_csv(\"D:\\\\cycle_17_1\\\\ENGINX00269853_Lamp.txt\", sep = \"\\t\", names = [\"Times\", \"other\"])\n",
    "li = df[\"Times\"].values\n",
    "print(li)\n",
    "\n",
    "for i in range(len(li)):\n",
    "    untdate = li[0].replace('T',' ')\n",
    "    li = np.append(li,[untdate])\n",
    "    li = np.delete(li,[0], axis = None)\n",
    "        \n",
    "print(li)  \n",
    "d2f = pd.read_csv(\"D:\\\\cycle_04_1\\\\ENG44007_X.txt\", sep = \"\\t\", names = [\"Times\", \"other\"])\n",
    "l2i = d2f[\"Times\"].values\n",
    "print(l2i)\n",
    "\n",
    "#li = np.concatenate((li,l2i),axis=None)\n",
    "#np.unique(li)\n",
    "#print(li)"
   ]
  },
  {
   "cell_type": "code",
   "execution_count": null,
   "metadata": {},
   "outputs": [],
   "source": [
    "a = np.array([1,2,3,3,4,1,13,23,213,57246,5472457,1])\n",
    "b = np.array([13,23,1,5,3,7,6,96,8,6478,1,213])\n",
    "#a = np.concatenate((a,b),axis=None)\n",
    "#np.unique(a,axis=None)\n",
    "#print(len(a))\n",
    "a = np.append(a,[[1,3,4]])\n",
    "#print(len(a))\n",
    "\n",
    "c = np.array([\"2017-03-29T12:09:11\", \"2017-03-29T12:09:42\", \"2017-03-29T12:10:12\", \"2017-03-29T12:10:42\"\n",
    "              \"2017-03-29T12:11:12\", \"2017-03-29T12:11:42\"])\n",
    "\n",
    "print(c)\n",
    "print(len(c))\n",
    "\n",
    "for i in range(len(c)):\n",
    "    untdate = c[0].replace('T',' ')\n",
    "    c = np.append(c,[untdate])\n",
    "    #print(li[0])\n",
    "    c = np.delete(c,[0], axis = None)\n",
    "    #print(c)\n",
    "    \n",
    "print(c)\n",
    "print(len(c))"
   ]
  },
  {
   "cell_type": "code",
   "execution_count": null,
   "metadata": {},
   "outputs": [],
   "source": [
    "a = \"kldgndfkhnopsmgnpksnhgo.txt\"\n",
    "b = \"D:\\\\cycle_04_1\\\\ENG44007_Current.txt\"\n",
    "c = \"2017-09-07T13:25:54\"\n",
    "d = \"ENGINX00275375_cryo_temp2.txt\"\n",
    "print(c.replace('T', \" \"))\n",
    "print(len(c))\n",
    "print(d[0:14])"
   ]
  },
  {
   "cell_type": "code",
   "execution_count": null,
   "metadata": {},
   "outputs": [],
   "source": [
    "directory = \"D:\\\\cycle_04_1\"\n",
    "a = np.array([])\n",
    "for filename in os.listdir(directory):\n",
    "    if filename[-4:] == \".txt\":\n",
    "        df = pd.read_csv(directory+\"\\\\\"+filename, sep = \"\\t\", names = [\"Times\", \"other\"])\n",
    "        li = df[\"Times\"].values\n",
    "        #print(filename)\n",
    "        if os.stat(directory+\"\\\\\"+filename).st_size == 0:\n",
    "            pass\n",
    "        elif len(str(df.iloc[0].values[0])) < 18: # remove the files without time in the first colmn\n",
    "                print(filename)\n",
    "                pass\n",
    "        elif li[0][10] ==\"T\":\n",
    "            for i in range(len(li)): # solve the T issue in some times \n",
    "                untdate = li[0].replace('T',' ')\n",
    "                li = np.append(li,[untdate])\n",
    "                li = np.delete(li,[0], axis = None)\n",
    "            a = np.concatenate((a,li),axis=None)\n",
    "        else: # Normal time columns\n",
    "            a = np.concatenate((a,li),axis=None)\n",
    "        #print(a)\n",
    "print(len(a))\n",
    "print(a)\n",
    "\n",
    "                \n",
    "        "
   ]
  },
  {
   "cell_type": "code",
   "execution_count": null,
   "metadata": {},
   "outputs": [],
   "source": [
    "a = np.array([1])\n",
    "b = np.array([1,2,3])\n",
    "print(int(b))"
   ]
  },
  {
   "cell_type": "code",
   "execution_count": null,
   "metadata": {},
   "outputs": [],
   "source": [
    "a = np.array([1,2,3,4])\n",
    "for i in a:\n",
    "    a = np.concatenate((a,[1]), axis=None)\n",
    "print(a)\n"
   ]
  },
  {
   "cell_type": "code",
   "execution_count": null,
   "metadata": {},
   "outputs": [],
   "source": [
    "def FindDel(S):\n",
    "    \"\"\"This function takes a the first string in a list,(S) that starts with ENG, it finds the nomancature \n",
    "    the file uses for the begining of each file, e.g ENG44007 or ENGINX00305258, it shall also work if more numbers\n",
    "    are added or the name changes so long as ENG followed by anything other than \".\" or \"_\" or \" \" is still \n",
    "    the start of each file\"\"\"\n",
    "    for i in S:\n",
    "        if i[0:3] == 'ENG':\n",
    "            n = 1\n",
    "            for j in i:\n",
    "                if j == '.':\n",
    "                    break\n",
    "                elif j == ' ':\n",
    "                    break\n",
    "                elif j == '_':\n",
    "                    break\n",
    "                else: \n",
    "                    n = n+1 \n",
    "            return n\n",
    "        else:\n",
    "            continue\n",
    "\n",
    "directory = \"D:\\\\\"\n",
    "time = np.array([])\n",
    "Experiment_index = np.array([])\n",
    "for foldername in os.listdir(directory):\n",
    "    if foldername[0:5] == 'cycle':\n",
    "        n = FindDel(os.listdir(\"D:\\\\\"+foldername))\n",
    "        print(n)\n",
    "        for filename in os.listdir(\"D:\\\\\"+foldername):\n",
    "            if filename[-4:] == \".txt\":\n",
    "                file_path = directory+foldername+\"\\\\\"+filename\n",
    "                df = pd.read_csv(file_path, sep = \"\\t\", names = [\"Times\", \"other\"])\n",
    "                li = df[\"Times\"].values\n",
    "                if os.stat(file_path).st_size == 0: # remove empty files\n",
    "                    pass\n",
    "                elif len(str(df.iloc[0].values[0])) < 18: # remove the files without time in the first colmn\n",
    "                    print(filename)\n",
    "                    pass\n",
    "                elif li[0][10] ==\"T\":\n",
    "                    for i in range(len(li)): # fix the T issue in some times \n",
    "                        untdate = li[0].replace('T',' ')\n",
    "                        li = np.append(li,[untdate])\n",
    "                        li = np.delete(li,[0], axis = None)\n",
    "                    time = np.concatenate((a,li),axis=None)\n",
    "                    Experiment_index = np.append(Experiment_index,[filename[:n-1]])\n",
    "                else: # Normal time columns\n",
    "                    time = np.concatenate((a,li),axis=None)\n",
    "                    Experiment_index = np.append(Experiment_index,[filename[:n-1]])\n",
    "                    #print(a)\n",
    "print(len(time))\n",
    "print(time)\n",
    "print(Experiment_index)\n",
    "print(len(Experiment_index))"
   ]
  },
  {
   "cell_type": "code",
   "execution_count": null,
   "metadata": {},
   "outputs": [],
   "source": [
    "df = pd.DataFrame({'col1': [1,2,3], 'col2': [4,5,6], 'col3': [4,5,6]})\n",
    "# Extract second row (index: 1)\n",
    "c = df.iloc[1].values\n",
    "print(len(c))"
   ]
  },
  {
   "cell_type": "markdown",
   "metadata": {},
   "source": [
    "### Making a dictionary from spreadsheet of filenames"
   ]
  },
  {
   "cell_type": "code",
   "execution_count": null,
   "metadata": {},
   "outputs": [],
   "source": [
    "xls = pd.ExcelFile(\"C:\\\\Users\\\\zahaab\\\\ENGIN_X_DATA_CLEANING\\\\File_names_2013-19.xlsx\")\n",
    "df = xls.parse(sheet_name = \"Sheet1\")\n",
    "df = df[[\"Filename\", \"Column_name\"]].set_index(\"Filename\")\n",
    "true_name_translater = df.to_dict()#This has all unique file names as keys and the colomn name the data will go \n",
    "#as values\n",
    "print(true_name_translater)"
   ]
  },
  {
   "cell_type": "markdown",
   "metadata": {},
   "source": [
    "### Making function(s) for extracting data from files "
   ]
  },
  {
   "cell_type": "code",
   "execution_count": null,
   "metadata": {},
   "outputs": [],
   "source": [
    "def ExtractData():\n",
    "    "
   ]
  }
 ],
 "metadata": {
  "kernelspec": {
   "display_name": "Python 3",
   "language": "python",
   "name": "python3"
  },
  "language_info": {
   "codemirror_mode": {
    "name": "ipython",
    "version": 3
   },
   "file_extension": ".py",
   "mimetype": "text/x-python",
   "name": "python",
   "nbconvert_exporter": "python",
   "pygments_lexer": "ipython3",
   "version": "3.7.3"
  }
 },
 "nbformat": 4,
 "nbformat_minor": 2
}
