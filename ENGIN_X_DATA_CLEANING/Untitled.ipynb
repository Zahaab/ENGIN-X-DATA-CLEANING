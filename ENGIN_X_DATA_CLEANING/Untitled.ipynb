{
 "cells": [
  {
   "cell_type": "code",
   "execution_count": 34,
   "metadata": {},
   "outputs": [],
   "source": [
    "import os\n",
    "import xlsxwriter\n",
    "import numpy as np\n",
    "from pylab import plot, grid, xlim, ylim, xlabel, ylabel, linspace, figure, legend\n",
    "import pandas as pd"
   ]
  },
  {
   "cell_type": "code",
   "execution_count": null,
   "metadata": {},
   "outputs": [],
   "source": []
  },
  {
   "cell_type": "code",
   "execution_count": null,
   "metadata": {},
   "outputs": [],
   "source": []
  },
  {
   "cell_type": "code",
   "execution_count": null,
   "metadata": {},
   "outputs": [],
   "source": []
  },
  {
   "cell_type": "code",
   "execution_count": 24,
   "metadata": {},
   "outputs": [
    {
     "data": {
      "text/plain": [
       "9"
      ]
     },
     "execution_count": 24,
     "metadata": {},
     "output_type": "execute_result"
    }
   ],
   "source": []
  },
  {
   "cell_type": "code",
   "execution_count": null,
   "metadata": {
    "scrolled": false
   },
   "outputs": [],
   "source": [
    "def FindDel(S):\n",
    "    \"\"\"This function takes a the first string in a list,(S) that starts with ENG, it finds the nomancature \n",
    "    the file uses for the begining of each file, e.g ENG44007 or ENGINX00305258, it shall also work if more numbers\n",
    "    are added or the name changes so long as ENG followed by anything other than \".\" or \"_\" or \" \" is still \n",
    "    the start of each file\"\"\"\n",
    "    for i in S:\n",
    "        if i[0:3] == 'ENG':\n",
    "            n = 1\n",
    "            for j in i:\n",
    "                if j == '.':\n",
    "                    break\n",
    "                elif j == ' ':\n",
    "                    break\n",
    "                elif j == '_':\n",
    "                    break\n",
    "                else: \n",
    "                    n = n+1 \n",
    "            return n\n",
    "        else:\n",
    "            continue\n",
    "\n",
    "directory = \"D:\\\\\"\n",
    "array_names = []\n",
    "file_years = []\n",
    "long_array_names = []\n",
    "for foldername in os.listdir(directory):\n",
    "    if foldername[0:5] == 'cycle':\n",
    "        n = FindDel(os.listdir(\"D:\\\\\"+foldername))\n",
    "        print(n)\n",
    "        for filename in os.listdir(\"D:\\\\\"+foldername):\n",
    "            if filename[n:] in array_names: #stop repeated file names from entering \n",
    "                pass\n",
    "            elif len(filename) < n+1: # Stop useless file names from entering (e.g copy)\n",
    "                pass\n",
    "            elif filename[n] == 's' or 'n':# Stop temporary files from entering (e.g .s01 or .n001)\n",
    "                try:\n",
    "                    int(filename[n+1]) # all temp files are 's' or 'n' followed by a int\n",
    "                except: \n",
    "                    array_names.append(filename[n:])\n",
    "                    long_array_names.append(filename)\n",
    "                    file_years.append(foldername)\n",
    "            else: # most unique file names go here \n",
    "                array_names.append(filename[n:])\n",
    "                long_array_names.append(filename)\n",
    "                file_years.append(foldername)\n",
    "                \n",
    "#print(file_years)\n",
    "#print(array_names)\n",
    "#print(long_array_names)\n",
    "\n",
    "workbook   = xlsxwriter.Workbook('Filenames.xlsx')\n",
    "\n",
    "worksheet1 = workbook.add_worksheet()\n",
    "worksheet2 = workbook.add_worksheet()\n",
    "\n",
    "worksheet1.write_column('A1', array_names)\n",
    "worksheet2.write_column('A1', long_array_names)\n",
    "worksheet1.write_column('B1', file_years)\n",
    "worksheet2.write_column('B1', file_years)\n",
    "workbook.close()"
   ]
  },
  {
   "cell_type": "markdown",
   "metadata": {},
   "source": [
    "### Extracting data"
   ]
  },
  {
   "cell_type": "code",
   "execution_count": 93,
   "metadata": {},
   "outputs": [
    {
     "name": "stdout",
     "output_type": "stream",
     "text": [
      "['2017-03-29T12:09:11' '2017-03-29T12:09:42' '2017-03-29T12:10:12' ...\n",
      " '2017-04-29T18:38:25' '2017-04-29T18:38:56' '2017-04-29T18:39:27']\n",
      "['2017-03-29 12:09:11' '2017-03-29 12:09:42' '2017-03-29 12:10:12' ...\n",
      " '2017-04-29 18:38:25' '2017-04-29 18:38:56' '2017-04-29 18:39:27']\n",
      "['2004-05-25 11:54:51' '2004-05-25 11:54:56' '2004-05-25 11:55:02' ...\n",
      " '2004-10-26 19:04:16' '2004-10-26 19:04:21' '2004-10-26 19:04:26']\n"
     ]
    }
   ],
   "source": [
    "df = pd.read_csv(\"D:\\\\cycle_17_1\\\\ENGINX00269853_Lamp.txt\", sep = \"\\t\", names = [\"Times\", \"other\"])\n",
    "li = df[\"Times\"].values\n",
    "print(li)\n",
    "\n",
    "for i in range(len(li)):\n",
    "    untdate = li[0].replace('T',' ')\n",
    "    li = np.append(li,[untdate])\n",
    "    li = np.delete(li,[0], axis = None)\n",
    "        \n",
    "print(li)  \n",
    "d2f = pd.read_csv(\"D:\\\\cycle_04_1\\\\ENG44007_X.txt\", sep = \"\\t\", names = [\"Times\", \"other\"])\n",
    "l2i = d2f[\"Times\"].values\n",
    "print(l2i)\n",
    "\n",
    "#li = np.concatenate((li,l2i),axis=None)\n",
    "#np.unique(li)\n",
    "#print(li)"
   ]
  },
  {
   "cell_type": "code",
   "execution_count": 89,
   "metadata": {},
   "outputs": [
    {
     "name": "stdout",
     "output_type": "stream",
     "text": [
      "['2017-03-29T12:09:11' '2017-03-29T12:09:42' '2017-03-29T12:10:12'\n",
      " '2017-03-29T12:10:422017-03-29T12:11:12' '2017-03-29T12:11:42']\n",
      "5\n",
      "['2017-03-29 12:09:11' '2017-03-29 12:09:42' '2017-03-29 12:10:12'\n",
      " '2017-03-29 12:10:422017-03-29 12:11:12' '2017-03-29 12:11:42']\n",
      "5\n"
     ]
    }
   ],
   "source": [
    "a = np.array([1,2,3,3,4,1,13,23,213,57246,5472457,1])\n",
    "b = np.array([13,23,1,5,3,7,6,96,8,6478,1,213])\n",
    "#a = np.concatenate((a,b),axis=None)\n",
    "#np.unique(a,axis=None)\n",
    "#print(len(a))\n",
    "a = np.append(a,[[1,3,4]])\n",
    "#print(len(a))\n",
    "\n",
    "c = np.array([\"2017-03-29T12:09:11\", \"2017-03-29T12:09:42\", \"2017-03-29T12:10:12\", \"2017-03-29T12:10:42\"\n",
    "              \"2017-03-29T12:11:12\", \"2017-03-29T12:11:42\"])\n",
    "\n",
    "print(c)\n",
    "print(len(c))\n",
    "\n",
    "for i in range(len(c)):\n",
    "    untdate = c[0].replace('T',' ')\n",
    "    c = np.append(c,[untdate])\n",
    "    #print(li[0])\n",
    "    c = np.delete(c,[0], axis = None)\n",
    "    #print(c)\n",
    "    \n",
    "print(c)\n",
    "print(len(c))"
   ]
  },
  {
   "cell_type": "code",
   "execution_count": 96,
   "metadata": {},
   "outputs": [
    {
     "name": "stdout",
     "output_type": "stream",
     "text": [
      "2017-09-07 13:25:54\n",
      "19\n"
     ]
    }
   ],
   "source": [
    "a = \"kldgndfkhnopsmgnpksnhgo.txt\"\n",
    "b = \"D:\\\\cycle_04_1\"\n",
    "c = \"2017-09-07T13:25:54\"\n",
    "print(c.replace('T', \" \"))\n",
    "print(len(c))"
   ]
  },
  {
   "cell_type": "code",
   "execution_count": 116,
   "metadata": {},
   "outputs": [
    {
     "ename": "TypeError",
     "evalue": "object of type 'numpy.int64' has no len()",
     "output_type": "error",
     "traceback": [
      "\u001b[1;31m---------------------------------------------------------------------------\u001b[0m",
      "\u001b[1;31mTypeError\u001b[0m                                 Traceback (most recent call last)",
      "\u001b[1;32m<ipython-input-116-72251e5051a0>\u001b[0m in \u001b[0;36m<module>\u001b[1;34m\u001b[0m\n\u001b[0;32m      5\u001b[0m         \u001b[0mdf\u001b[0m \u001b[1;33m=\u001b[0m \u001b[0mpd\u001b[0m\u001b[1;33m.\u001b[0m\u001b[0mread_csv\u001b[0m\u001b[1;33m(\u001b[0m\u001b[1;34m\"D:\\\\cycle_04_1\\\\\"\u001b[0m\u001b[1;33m+\u001b[0m\u001b[0mfilename\u001b[0m\u001b[1;33m,\u001b[0m \u001b[0msep\u001b[0m \u001b[1;33m=\u001b[0m \u001b[1;34m\"\\t\"\u001b[0m\u001b[1;33m,\u001b[0m \u001b[0mnames\u001b[0m \u001b[1;33m=\u001b[0m \u001b[1;33m[\u001b[0m\u001b[1;34m\"Times\"\u001b[0m\u001b[1;33m,\u001b[0m \u001b[1;34m\"other\"\u001b[0m\u001b[1;33m]\u001b[0m\u001b[1;33m)\u001b[0m\u001b[1;33m\u001b[0m\u001b[1;33m\u001b[0m\u001b[0m\n\u001b[0;32m      6\u001b[0m         \u001b[0mli\u001b[0m \u001b[1;33m=\u001b[0m \u001b[0mdf\u001b[0m\u001b[1;33m[\u001b[0m\u001b[1;34m\"Times\"\u001b[0m\u001b[1;33m]\u001b[0m\u001b[1;33m.\u001b[0m\u001b[0mvalues\u001b[0m\u001b[1;33m\u001b[0m\u001b[1;33m\u001b[0m\u001b[0m\n\u001b[1;32m----> 7\u001b[1;33m         \u001b[1;32mif\u001b[0m \u001b[0mlen\u001b[0m\u001b[1;33m(\u001b[0m\u001b[0mli\u001b[0m\u001b[1;33m[\u001b[0m\u001b[1;36m0\u001b[0m\u001b[1;33m]\u001b[0m\u001b[1;33m)\u001b[0m \u001b[1;33m<\u001b[0m \u001b[1;36m18\u001b[0m\u001b[1;33m:\u001b[0m \u001b[1;31m# remove the files without time in the first colmn\u001b[0m\u001b[1;33m\u001b[0m\u001b[1;33m\u001b[0m\u001b[0m\n\u001b[0m\u001b[0;32m      8\u001b[0m             \u001b[0mprint\u001b[0m\u001b[1;33m(\u001b[0m\u001b[0mfilename\u001b[0m\u001b[1;33m)\u001b[0m\u001b[1;33m\u001b[0m\u001b[1;33m\u001b[0m\u001b[0m\n\u001b[0;32m      9\u001b[0m             \u001b[1;32mpass\u001b[0m\u001b[1;33m\u001b[0m\u001b[1;33m\u001b[0m\u001b[0m\n",
      "\u001b[1;31mTypeError\u001b[0m: object of type 'numpy.int64' has no len()"
     ]
    }
   ],
   "source": [
    "directory = \"D:\\\\cycle_04_1\"\n",
    "a = np.array([])\n",
    "for filename in os.listdir(directory):\n",
    "    if filename[-4:] == \".txt\":\n",
    "        df = pd.read_csv(\"D:\\\\cycle_04_1\\\\\"+filename, sep = \"\\t\", names = [\"Times\", \"other\"])\n",
    "        li = df[\"Times\"].values\n",
    "        if len(li[0]) < 18: # remove the files without time in the first colmn\n",
    "            print(filename)\n",
    "            pass\n",
    "        elif li[0][10] ==\"T\":\n",
    "            for i in range(len(li)): # solve the T issue in some times \n",
    "                untdate = li[0].replace('T',' ')\n",
    "                li = np.append(li,[untdate])\n",
    "                li = np.delete(li,[0], axis = None)\n",
    "            a = np.concatenate((a,li),axis=None)\n",
    "        else: # Normal time columns\n",
    "            #print(a)\n",
    "            #print(li)\n",
    "            a = np.concatenate((a,li),axis=None)\n",
    "        #print(a)\n",
    "print(len(a))\n",
    "print(a)\n",
    "np.unique(a)\n",
    "print(a)\n",
    "print(len(a))\n",
    "                \n",
    "        "
   ]
  },
  {
   "cell_type": "code",
   "execution_count": 115,
   "metadata": {},
   "outputs": [
    {
     "ename": "TypeError",
     "evalue": "only size-1 arrays can be converted to Python scalars",
     "output_type": "error",
     "traceback": [
      "\u001b[1;31m---------------------------------------------------------------------------\u001b[0m",
      "\u001b[1;31mTypeError\u001b[0m                                 Traceback (most recent call last)",
      "\u001b[1;32m<ipython-input-115-7e46abc3278d>\u001b[0m in \u001b[0;36m<module>\u001b[1;34m\u001b[0m\n\u001b[0;32m      1\u001b[0m \u001b[0ma\u001b[0m \u001b[1;33m=\u001b[0m \u001b[0mnp\u001b[0m\u001b[1;33m.\u001b[0m\u001b[0marray\u001b[0m\u001b[1;33m(\u001b[0m\u001b[1;33m[\u001b[0m\u001b[1;36m1\u001b[0m\u001b[1;33m]\u001b[0m\u001b[1;33m)\u001b[0m\u001b[1;33m\u001b[0m\u001b[1;33m\u001b[0m\u001b[0m\n\u001b[0;32m      2\u001b[0m \u001b[0mb\u001b[0m \u001b[1;33m=\u001b[0m \u001b[0mnp\u001b[0m\u001b[1;33m.\u001b[0m\u001b[0marray\u001b[0m\u001b[1;33m(\u001b[0m\u001b[1;33m[\u001b[0m\u001b[1;36m1\u001b[0m\u001b[1;33m,\u001b[0m\u001b[1;36m2\u001b[0m\u001b[1;33m,\u001b[0m\u001b[1;36m3\u001b[0m\u001b[1;33m]\u001b[0m\u001b[1;33m)\u001b[0m\u001b[1;33m\u001b[0m\u001b[1;33m\u001b[0m\u001b[0m\n\u001b[1;32m----> 3\u001b[1;33m \u001b[0mprint\u001b[0m\u001b[1;33m(\u001b[0m\u001b[0mint\u001b[0m\u001b[1;33m(\u001b[0m\u001b[0mb\u001b[0m\u001b[1;33m)\u001b[0m\u001b[1;33m)\u001b[0m\u001b[1;33m\u001b[0m\u001b[1;33m\u001b[0m\u001b[0m\n\u001b[0m",
      "\u001b[1;31mTypeError\u001b[0m: only size-1 arrays can be converted to Python scalars"
     ]
    }
   ],
   "source": [
    "a = np.array([1])\n",
    "b = np.array([1,2,3])\n",
    "print(int(b))"
   ]
  },
  {
   "cell_type": "code",
   "execution_count": 109,
   "metadata": {},
   "outputs": [
    {
     "name": "stdout",
     "output_type": "stream",
     "text": [
      "[1 2 3 4 1 1 1 1]\n"
     ]
    }
   ],
   "source": [
    "a = np.array([1,2,3,4])\n",
    "for i in a:\n",
    "    a = np.concatenate((a,[1]), axis=None)\n",
    "print(a)\n"
   ]
  },
  {
   "cell_type": "code",
   "execution_count": 133,
   "metadata": {},
   "outputs": [
    {
     "name": "stdout",
     "output_type": "stream",
     "text": [
      "$RECYCLE.BIN\n",
      ".dropbox.device\n",
      "cycle_04_1\n",
      "ENG44007_dash_controls.txt\n"
     ]
    },
    {
     "ename": "KeyboardInterrupt",
     "evalue": "",
     "output_type": "error",
     "traceback": [
      "\u001b[1;31m---------------------------------------------------------------------------\u001b[0m",
      "\u001b[1;31mKeyboardInterrupt\u001b[0m                         Traceback (most recent call last)",
      "\u001b[1;32m<ipython-input-133-494efdac9369>\u001b[0m in \u001b[0;36m<module>\u001b[1;34m\u001b[0m\n\u001b[0;32m     19\u001b[0m                     \u001b[0ma\u001b[0m \u001b[1;33m=\u001b[0m \u001b[0mnp\u001b[0m\u001b[1;33m.\u001b[0m\u001b[0mconcatenate\u001b[0m\u001b[1;33m(\u001b[0m\u001b[1;33m(\u001b[0m\u001b[0ma\u001b[0m\u001b[1;33m,\u001b[0m\u001b[0mli\u001b[0m\u001b[1;33m)\u001b[0m\u001b[1;33m,\u001b[0m\u001b[0maxis\u001b[0m\u001b[1;33m=\u001b[0m\u001b[1;32mNone\u001b[0m\u001b[1;33m)\u001b[0m\u001b[1;33m\u001b[0m\u001b[1;33m\u001b[0m\u001b[0m\n\u001b[0;32m     20\u001b[0m                 \u001b[1;32melse\u001b[0m\u001b[1;33m:\u001b[0m \u001b[1;31m# Normal time columns\u001b[0m\u001b[1;33m\u001b[0m\u001b[1;33m\u001b[0m\u001b[0m\n\u001b[1;32m---> 21\u001b[1;33m                     \u001b[0ma\u001b[0m \u001b[1;33m=\u001b[0m \u001b[0mnp\u001b[0m\u001b[1;33m.\u001b[0m\u001b[0mconcatenate\u001b[0m\u001b[1;33m(\u001b[0m\u001b[1;33m(\u001b[0m\u001b[0ma\u001b[0m\u001b[1;33m,\u001b[0m\u001b[0mli\u001b[0m\u001b[1;33m)\u001b[0m\u001b[1;33m,\u001b[0m\u001b[0maxis\u001b[0m\u001b[1;33m=\u001b[0m\u001b[1;32mNone\u001b[0m\u001b[1;33m)\u001b[0m\u001b[1;33m\u001b[0m\u001b[1;33m\u001b[0m\u001b[0m\n\u001b[0m\u001b[0;32m     22\u001b[0m                     \u001b[1;31m#print(a)\u001b[0m\u001b[1;33m\u001b[0m\u001b[1;33m\u001b[0m\u001b[1;33m\u001b[0m\u001b[0m\n\u001b[0;32m     23\u001b[0m \u001b[0mprint\u001b[0m\u001b[1;33m(\u001b[0m\u001b[0mlen\u001b[0m\u001b[1;33m(\u001b[0m\u001b[0ma\u001b[0m\u001b[1;33m)\u001b[0m\u001b[1;33m)\u001b[0m\u001b[1;33m\u001b[0m\u001b[1;33m\u001b[0m\u001b[0m\n",
      "\u001b[1;31mKeyboardInterrupt\u001b[0m: "
     ]
    }
   ],
   "source": [
    "directory = \"D:\\\\\"\n",
    "a = np.array([])\n",
    "for foldername in os.listdir(directory):\n",
    "    print(foldername)\n",
    "    if foldername[0:5] == 'cycle':\n",
    "        for filename in os.listdir(\"D:\\\\\"+foldername):\n",
    "            if filename[-4:] == \".txt\":\n",
    "                #print(filename)\n",
    "                df = pd.read_csv(\"D:\\\\\"+foldername+\"\\\\\"+filename, sep = \"\\t\", names = [\"Times\", \"other\"])\n",
    "                li = df[\"Times\"].values\n",
    "                if len(str(df.iloc[0].values[0])) < 18: # remove the files without time in the first colmn\n",
    "                    print(filename)\n",
    "                    pass\n",
    "                elif li[0][10] ==\"T\":\n",
    "                    for i in range(len(li)): # solve the T issue in some times \n",
    "                        untdate = li[0].replace('T',' ')\n",
    "                        li = np.append(li,[untdate])\n",
    "                        li = np.delete(li,[0], axis = None)\n",
    "                    a = np.concatenate((a,li),axis=None)\n",
    "                else: # Normal time columns\n",
    "                    a = np.concatenate((a,li),axis=None)\n",
    "                    #print(a)\n",
    "print(len(a))\n",
    "print(a)\n",
    "np.unique(a)\n",
    "print(a)\n",
    "print(len(a))"
   ]
  },
  {
   "cell_type": "code",
   "execution_count": 127,
   "metadata": {},
   "outputs": [
    {
     "name": "stdout",
     "output_type": "stream",
     "text": [
      "3\n"
     ]
    }
   ],
   "source": [
    "df = pd.DataFrame({'col1': [1,2,3], 'col2': [4,5,6], 'col3': [4,5,6]})\n",
    "# Extract second row (index: 1)\n",
    "c = df.iloc[1].values\n",
    "print(len(c))"
   ]
  },
  {
   "cell_type": "code",
   "execution_count": null,
   "metadata": {},
   "outputs": [],
   "source": []
  }
 ],
 "metadata": {
  "kernelspec": {
   "display_name": "Python 3",
   "language": "python",
   "name": "python3"
  },
  "language_info": {
   "codemirror_mode": {
    "name": "ipython",
    "version": 3
   },
   "file_extension": ".py",
   "mimetype": "text/x-python",
   "name": "python",
   "nbconvert_exporter": "python",
   "pygments_lexer": "ipython3",
   "version": "3.7.3"
  }
 },
 "nbformat": 4,
 "nbformat_minor": 2
}
