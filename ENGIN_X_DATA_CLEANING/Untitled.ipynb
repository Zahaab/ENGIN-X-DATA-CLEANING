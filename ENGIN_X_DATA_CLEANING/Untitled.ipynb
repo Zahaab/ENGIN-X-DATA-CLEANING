{
 "cells": [
  {
   "cell_type": "code",
   "execution_count": 1,
   "metadata": {},
   "outputs": [],
   "source": [
    "import os\n",
    "import xlsxwriter\n",
    "from numpy import loadtxt, trapz, where, array\n",
    "from pylab import plot, grid, xlim, ylim, xlabel, ylabel, linspace, figure, legend"
   ]
  },
  {
   "cell_type": "code",
   "execution_count": null,
   "metadata": {},
   "outputs": [],
   "source": []
  },
  {
   "cell_type": "code",
   "execution_count": null,
   "metadata": {},
   "outputs": [],
   "source": []
  },
  {
   "cell_type": "code",
   "execution_count": null,
   "metadata": {},
   "outputs": [],
   "source": []
  },
  {
   "cell_type": "code",
   "execution_count": 24,
   "metadata": {},
   "outputs": [
    {
     "data": {
      "text/plain": [
       "9"
      ]
     },
     "execution_count": 24,
     "metadata": {},
     "output_type": "execute_result"
    }
   ],
   "source": []
  },
  {
   "cell_type": "code",
   "execution_count": 102,
   "metadata": {
    "scrolled": false
   },
   "outputs": [
    {
     "name": "stdout",
     "output_type": "stream",
     "text": [
      "9\n",
      "15\n",
      "15\n"
     ]
    }
   ],
   "source": [
    "def FindDel(S):\n",
    "    \"\"\"This function takes a the first string in a list,(S) that starts with ENG, it finds the nomancature \n",
    "    the file uses for the begining of each file, e.g ENG44007 or ENGINX00305258, it shall also work if more numbers\n",
    "    are added or the name changes so long as ENG followed by anything other than \".\" or \"_\" or \" \" is still \n",
    "    the start of each file\"\"\"\n",
    "    for i in S:\n",
    "        if i[0:3] == 'ENG':\n",
    "            n = 1\n",
    "            for j in i:\n",
    "                if j == '.':\n",
    "                    break\n",
    "                elif j == ' ':\n",
    "                    break\n",
    "                elif j == '_':\n",
    "                    break\n",
    "                else: \n",
    "                    n = n+1 \n",
    "            return n\n",
    "        else:\n",
    "            continue\n",
    "\n",
    "directory = \"D:\\\\\"\n",
    "array_names = []\n",
    "file_years = []\n",
    "long_array_names = []\n",
    "for foldername in os.listdir(directory):\n",
    "    if foldername[0:5] == 'cycle':\n",
    "        n = FindDel(os.listdir(\"D:\\\\\"+foldername))\n",
    "        print(n)\n",
    "        for filename in os.listdir(\"D:\\\\\"+foldername):\n",
    "            if filename[n:] in array_names:\n",
    "                pass\n",
    "            elif len(filename) < n+1:\n",
    "                pass\n",
    "            elif filename[n] == 's' or 'n':\n",
    "                try:\n",
    "                    int(filename[n+1])\n",
    "                except: \n",
    "                    array_names.append(filename[n:])\n",
    "                    long_array_names.append(filename)\n",
    "                    file_years.append(foldername)\n",
    "            else:\n",
    "                array_names.append(filename[n:])\n",
    "                long_array_names.append(filename)\n",
    "                file_years.append(foldername)\n",
    "                \n",
    "#print(file_years)\n",
    "#print(array_names)\n",
    "#print(long_array_names)\n",
    "\n",
    "workbook   = xlsxwriter.Workbook('Filenames.xlsx')\n",
    "\n",
    "worksheet1 = workbook.add_worksheet()\n",
    "worksheet2 = workbook.add_worksheet()\n",
    "\n",
    "worksheet1.write_column('A1', array_names)\n",
    "worksheet2.write_column('A1', long_array_names)\n",
    "worksheet1.write_column('B1', file_years)\n",
    "worksheet2.write_column('B1', file_years)\n",
    "workbook.close()"
   ]
  },
  {
   "cell_type": "markdown",
   "metadata": {},
   "source": [
    "### Extracting data"
   ]
  },
  {
   "cell_type": "code",
   "execution_count": null,
   "metadata": {},
   "outputs": [],
   "source": []
  }
 ],
 "metadata": {
  "kernelspec": {
   "display_name": "Python 3",
   "language": "python",
   "name": "python3"
  },
  "language_info": {
   "codemirror_mode": {
    "name": "ipython",
    "version": 3
   },
   "file_extension": ".py",
   "mimetype": "text/x-python",
   "name": "python",
   "nbconvert_exporter": "python",
   "pygments_lexer": "ipython3",
   "version": "3.7.3"
  }
 },
 "nbformat": 4,
 "nbformat_minor": 2
}
